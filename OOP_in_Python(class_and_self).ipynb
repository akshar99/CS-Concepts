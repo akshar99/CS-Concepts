{
  "nbformat": 4,
  "nbformat_minor": 0,
  "metadata": {
    "colab": {
      "name": "OOP in Python(class and self)",
      "provenance": []
    },
    "kernelspec": {
      "name": "python3",
      "display_name": "Python 3"
    },
    "language_info": {
      "name": "python"
    }
  },
  "cells": [
    {
      "cell_type": "code",
      "execution_count": null,
      "metadata": {
        "id": "Ei1A_w9SFCAE"
      },
      "outputs": [],
      "source": [
        "class vehicle():\n",
        "  def __init__(self, model, color):\n",
        "    self.model = model\n",
        "    self.color = color\n",
        "  \n",
        "  def show(self):\n",
        "    print('Model :', self.model)\n",
        "    print('Color :', self.color)\n"
      ]
    },
    {
      "cell_type": "code",
      "source": [
        "bullet = vehicle('Classic 350', 'Halycoln Black')"
      ],
      "metadata": {
        "id": "ZW6v4w_3F5TF"
      },
      "execution_count": null,
      "outputs": []
    },
    {
      "cell_type": "code",
      "source": [
        "bullet.show()"
      ],
      "metadata": {
        "colab": {
          "base_uri": "https://localhost:8080/"
        },
        "id": "61FA_eCWGRN4",
        "outputId": "b81ac905-f08f-4486-c441-8e77bb05e8e4"
      },
      "execution_count": null,
      "outputs": [
        {
          "output_type": "stream",
          "name": "stdout",
          "text": [
            "Model : Classic 350\n",
            "Color : Halycoln Black\n"
          ]
        }
      ]
    },
    {
      "cell_type": "code",
      "source": [
        "class dog():\n",
        "  attr1 = 'mammal'\n",
        "  attr2 = 'dog'\n",
        "\n",
        "  def fun(self):\n",
        "    print('I am a', self.attr1)\n",
        "    print('I am a', self.attr2)\n",
        "\n",
        "    "
      ],
      "metadata": {
        "id": "QUjH8y2EGTmX"
      },
      "execution_count": null,
      "outputs": []
    },
    {
      "cell_type": "code",
      "source": [
        "Aura = dog()\n",
        "\n",
        "Aura.fun()"
      ],
      "metadata": {
        "colab": {
          "base_uri": "https://localhost:8080/"
        },
        "id": "rgM3_c7LMgQm",
        "outputId": "e7a473b8-0665-4746-87c0-c3861a710103"
      },
      "execution_count": null,
      "outputs": [
        {
          "output_type": "stream",
          "name": "stdout",
          "text": [
            "I am a mammal\n",
            "I am a dog\n"
          ]
        }
      ]
    },
    {
      "cell_type": "code",
      "source": [
        "class Person():\n",
        "  def __init__(self, name):\n",
        "    self.name = name\n",
        "\n",
        "  def say_hi(self):\n",
        "    print('Hello my name is', self.name)"
      ],
      "metadata": {
        "id": "Ayqn0dKNMkjs"
      },
      "execution_count": null,
      "outputs": []
    },
    {
      "cell_type": "code",
      "source": [
        "P = Person('Akshar')\n",
        "P.say_hi()"
      ],
      "metadata": {
        "colab": {
          "base_uri": "https://localhost:8080/"
        },
        "id": "alPyDMniQ3Xr",
        "outputId": "221dcb8d-2214-4b71-ce53-4621775ac759"
      },
      "execution_count": null,
      "outputs": [
        {
          "output_type": "stream",
          "name": "stdout",
          "text": [
            "Hello my name is Akshar\n"
          ]
        }
      ]
    },
    {
      "cell_type": "code",
      "source": [
        "class Dog:\n",
        "  animal = 'dog'\n",
        "  \n",
        "  def __init__(self, breed, color):\n",
        "    self.breed = breed\n",
        "    self.color = color\n"
      ],
      "metadata": {
        "id": "WgxOra10REc4"
      },
      "execution_count": null,
      "outputs": []
    },
    {
      "cell_type": "code",
      "source": [
        "Aura = Dog('Labra','Black')\n",
        "Oskar = Dog('Pug', 'White')"
      ],
      "metadata": {
        "id": "n9cjVQ16Scin"
      },
      "execution_count": null,
      "outputs": []
    },
    {
      "cell_type": "code",
      "source": [
        "print('Aura is a', Aura.animal)\n",
        "print(f'Aura is {Aura.breed} dog')\n",
        "print(f'Aura is of {Aura.color} color')\n",
        "print('\\n')\n",
        "print('Oskar is a', Oskar.animal)\n",
        "print(f'Oskar is {Oskar.breed} dog')\n",
        "print(f'Oskar is of {Oskar.color} color')"
      ],
      "metadata": {
        "colab": {
          "base_uri": "https://localhost:8080/"
        },
        "id": "zPobbx8tSsUA",
        "outputId": "725b9bb5-655a-479e-d8aa-065ada4c66c0"
      },
      "execution_count": null,
      "outputs": [
        {
          "output_type": "stream",
          "name": "stdout",
          "text": [
            "Aura is a dog\n",
            "Aura is Labra dog\n",
            "Aura is of Black color\n",
            "\n",
            "\n",
            "Oskar is a dog\n",
            "Oskar is Pug dog\n",
            "Oskar is of White color\n"
          ]
        }
      ]
    },
    {
      "cell_type": "code",
      "source": [
        "class greet:\n",
        "  def __init__(self):\n",
        "    self.greet = 'Hello\\nHow are you?'\n",
        "\n",
        "  def print_greet(self):\n",
        "    print(self.greet)\n",
        "\n",
        "obj = greet()\n",
        "obj.print_greet()    "
      ],
      "metadata": {
        "colab": {
          "base_uri": "https://localhost:8080/"
        },
        "id": "qkrWSbAWTLGI",
        "outputId": "f73b3c21-11ec-4264-dc66-84061a0bb030"
      },
      "execution_count": null,
      "outputs": [
        {
          "output_type": "stream",
          "name": "stdout",
          "text": [
            "Hello\n",
            "How are you?\n"
          ]
        }
      ]
    },
    {
      "cell_type": "code",
      "source": [
        "class Addition:\n",
        "  first = 0 \n",
        "  second = 0\n",
        "  answer = 0\n",
        "\n",
        "  def __init__(self, f, s):\n",
        "    self.first = f\n",
        "    self.second = s\n",
        "\n",
        "  def calculate(self):\n",
        "    self.answer = self.first + self.second\n",
        "\n",
        "  def display(self):\n",
        "    print('First is = ' + str(self.first))\n",
        "    print('Second is = ' + str(self.second))\n",
        "    print('Answer is = ' + str(self.answer))"
      ],
      "metadata": {
        "id": "Ki6-0gCInRLq"
      },
      "execution_count": null,
      "outputs": []
    },
    {
      "cell_type": "code",
      "source": [
        "obj = Addition(1000, 2000)\n",
        "\n",
        "obj.calculate()\n",
        "\n",
        "obj.display()"
      ],
      "metadata": {
        "colab": {
          "base_uri": "https://localhost:8080/"
        },
        "id": "YFBx2SZipEH7",
        "outputId": "b9212882-75d1-48a8-b613-75e92319337a"
      },
      "execution_count": null,
      "outputs": [
        {
          "output_type": "stream",
          "name": "stdout",
          "text": [
            "First is = 1000\n",
            "Second is = 2000\n",
            "Answer is = 3000\n"
          ]
        }
      ]
    },
    {
      "cell_type": "code",
      "source": [
        ""
      ],
      "metadata": {
        "id": "1uGG0JzvpOVi"
      },
      "execution_count": null,
      "outputs": []
    }
  ]
}