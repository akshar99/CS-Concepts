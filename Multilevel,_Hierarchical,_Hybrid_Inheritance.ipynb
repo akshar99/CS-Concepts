{
  "nbformat": 4,
  "nbformat_minor": 0,
  "metadata": {
    "colab": {
      "name": "Multilevel, Hierarchical, Hybrid Inheritance",
      "provenance": [],
      "authorship_tag": "ABX9TyP3Mqpb3ekvakKO/wM+j/xX",
      "include_colab_link": true
    },
    "kernelspec": {
      "name": "python3",
      "display_name": "Python 3"
    },
    "language_info": {
      "name": "python"
    }
  },
  "cells": [
    {
      "cell_type": "markdown",
      "metadata": {
        "id": "view-in-github",
        "colab_type": "text"
      },
      "source": [
        "<a href=\"https://colab.research.google.com/github/akshar99/CS-Concepts/blob/main/Multilevel%2C_Hierarchical%2C_Hybrid_Inheritance.ipynb\" target=\"_parent\"><img src=\"https://colab.research.google.com/assets/colab-badge.svg\" alt=\"Open In Colab\"/></a>"
      ]
    },
    {
      "cell_type": "code",
      "execution_count": 4,
      "metadata": {
        "colab": {
          "base_uri": "https://localhost:8080/"
        },
        "id": "r6Lowk77QVDp",
        "outputId": "fd22db11-2b4b-44ab-a8f0-bbeaf9cc6750"
      },
      "outputs": [
        {
          "output_type": "stream",
          "name": "stdout",
          "text": [
            "Akshar\n",
            "23\n",
            "Noida\n"
          ]
        }
      ],
      "source": [
        "class Base(object):\n",
        "  def __init__(self, name):\n",
        "    self.name = name\n",
        "\n",
        "  def getName(self):\n",
        "    return self.name\n",
        "\n",
        "\n",
        "class child(Base):\n",
        "  def __init__(self, name , age):\n",
        "    Base.__init__(self, name)\n",
        "    self.age = age\n",
        "\n",
        "  def getAge(self):\n",
        "    return self.age\n",
        "\n",
        "class grandchild(child):\n",
        "\n",
        "  def __init__(self, name, age, address):\n",
        "    child.__init__(self, name, age)\n",
        "    self.address = address\n",
        "\n",
        "  def getaddress(self):\n",
        "    return self.address\n",
        "\n",
        "g = grandchild('Akshar', 23, 'Noida')\n",
        "\n",
        "print(f'{g.getName()}\\n{g.getAge()}\\n{g.getaddress()}')"
      ]
    },
    {
      "cell_type": "code",
      "source": [
        "#private instance\n",
        "\n",
        "class C(object):\n",
        "  def __init__(self):\n",
        "    self.c = 21\n",
        "\n",
        "    self.__d = 42\n",
        "\n",
        "class D(C):\n",
        "  def __init__(self):\n",
        "    self.e = 84\n",
        "    C.__init__(self)\n",
        "\n",
        "object1 = D()\n",
        "\n",
        "print(object1.d)"
      ],
      "metadata": {
        "colab": {
          "base_uri": "https://localhost:8080/",
          "height": 201
        },
        "id": "f7J3qbKPTXgd",
        "outputId": "22c1f800-147b-47fb-e75f-5b39175df256"
      },
      "execution_count": 5,
      "outputs": [
        {
          "output_type": "error",
          "ename": "AttributeError",
          "evalue": "ignored",
          "traceback": [
            "\u001b[0;31m---------------------------------------------------------------------------\u001b[0m",
            "\u001b[0;31mAttributeError\u001b[0m                            Traceback (most recent call last)",
            "\u001b[0;32m<ipython-input-5-ddd2f82dfb68>\u001b[0m in \u001b[0;36m<module>\u001b[0;34m()\u001b[0m\n\u001b[1;32m     14\u001b[0m \u001b[0mobject1\u001b[0m \u001b[0;34m=\u001b[0m \u001b[0mD\u001b[0m\u001b[0;34m(\u001b[0m\u001b[0;34m)\u001b[0m\u001b[0;34m\u001b[0m\u001b[0;34m\u001b[0m\u001b[0m\n\u001b[1;32m     15\u001b[0m \u001b[0;34m\u001b[0m\u001b[0m\n\u001b[0;32m---> 16\u001b[0;31m \u001b[0mprint\u001b[0m\u001b[0;34m(\u001b[0m\u001b[0mobject1\u001b[0m\u001b[0;34m.\u001b[0m\u001b[0md\u001b[0m\u001b[0;34m)\u001b[0m\u001b[0;34m\u001b[0m\u001b[0;34m\u001b[0m\u001b[0m\n\u001b[0m",
            "\u001b[0;31mAttributeError\u001b[0m: 'D' object has no attribute 'd'"
          ]
        }
      ]
    },
    {
      "cell_type": "code",
      "source": [
        "class Parent:\n",
        "  def func1(self):\n",
        "    print('This function is in Parent Class')\n",
        "\n",
        "class child1(Parent):\n",
        "  def func2(self):\n",
        "    print('This function is in Child Class 1')\n",
        "\n",
        "class child2(Parent):\n",
        "  def func3(self):\n",
        "    print('This function is in Child Class 2')\n",
        "\n",
        "object1  = child1()\n",
        "object2 = child2()\n",
        "\n",
        "object1.func1()\n",
        "object1.func2()\n",
        "object2.func1()\n",
        "object2.func3()"
      ],
      "metadata": {
        "colab": {
          "base_uri": "https://localhost:8080/"
        },
        "id": "BqrR3DkZXrGi",
        "outputId": "bace9700-4298-49cc-d808-2cd12fdcee0b"
      },
      "execution_count": 6,
      "outputs": [
        {
          "output_type": "stream",
          "name": "stdout",
          "text": [
            "This function is in Parent Class\n",
            "This function is in Child Class 1\n",
            "This function is in Parent Class\n",
            "This function is in Child Class 2\n"
          ]
        }
      ]
    },
    {
      "cell_type": "code",
      "source": [
        "class School:\n",
        "    def func1(self):\n",
        "        print(\"This function is in school.\")\n",
        " \n",
        " \n",
        "class Student1(School):\n",
        "    def func2(self):\n",
        "        print(\"This function is in student 1. \")\n",
        " \n",
        " \n",
        "class Student2(School):\n",
        "    def func3(self):\n",
        "        print(\"This function is in student 2.\")\n",
        " \n",
        " \n",
        "class Student3(Student1, School):\n",
        "    def func4(self):\n",
        "        print(\"This function is in student 3.\")\n",
        " \n",
        " \n",
        "# Driver's code\n",
        "object = Student3()\n",
        "object.func1()\n",
        "object.func2()"
      ],
      "metadata": {
        "colab": {
          "base_uri": "https://localhost:8080/"
        },
        "id": "BGI9LUm1Zkix",
        "outputId": "a49d231f-46b4-42b5-a20f-3533af0c2f1c"
      },
      "execution_count": 7,
      "outputs": [
        {
          "output_type": "stream",
          "name": "stdout",
          "text": [
            "This function is in school.\n",
            "This function is in student 1. \n"
          ]
        }
      ]
    },
    {
      "cell_type": "code",
      "source": [
        ""
      ],
      "metadata": {
        "id": "I9oteGOQa4S3"
      },
      "execution_count": null,
      "outputs": []
    }
  ]
}