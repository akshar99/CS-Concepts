{
  "nbformat": 4,
  "nbformat_minor": 0,
  "metadata": {
    "colab": {
      "name": "Polymorphism",
      "provenance": [],
      "authorship_tag": "ABX9TyO6Zj/50jWhG1Eugt03wiUu",
      "include_colab_link": true
    },
    "kernelspec": {
      "name": "python3",
      "display_name": "Python 3"
    },
    "language_info": {
      "name": "python"
    }
  },
  "cells": [
    {
      "cell_type": "markdown",
      "metadata": {
        "id": "view-in-github",
        "colab_type": "text"
      },
      "source": [
        "<a href=\"https://colab.research.google.com/github/akshar99/CS-Concepts/blob/main/Polymorphism.ipynb\" target=\"_parent\"><img src=\"https://colab.research.google.com/assets/colab-badge.svg\" alt=\"Open In Colab\"/></a>"
      ]
    },
    {
      "cell_type": "markdown",
      "source": [
        "Polymorphism means having many forms"
      ],
      "metadata": {
        "id": "jjwS4MHZhk2p"
      }
    },
    {
      "cell_type": "code",
      "execution_count": 8,
      "metadata": {
        "colab": {
          "base_uri": "https://localhost:8080/"
        },
        "id": "wftZ_EQHhcb1",
        "outputId": "2d9efcdc-8e3d-4a3c-a0a5-be5fb98a8cae"
      },
      "outputs": [
        {
          "output_type": "stream",
          "name": "stdout",
          "text": [
            "2\n",
            "3\n",
            "This is an example of user defined polymorphism\n"
          ]
        }
      ],
      "source": [
        "def add(x, y, z=0):\n",
        "  return x + y + z\n",
        "\n",
        "print(add(1,1))\n",
        "print(add(1,1,1))\n",
        "print('This is an example of user defined polymorphism')"
      ]
    },
    {
      "cell_type": "code",
      "source": [
        "print(len('Akshar'))\n",
        "print(len([1,2,3,4,5]))\n",
        "print('This is an example of python function polymorphism')"
      ],
      "metadata": {
        "colab": {
          "base_uri": "https://localhost:8080/"
        },
        "id": "FymVgjykiQZE",
        "outputId": "eab27b4f-9868-4b93-98ef-0648f6ff2bce"
      },
      "execution_count": 10,
      "outputs": [
        {
          "output_type": "stream",
          "name": "stdout",
          "text": [
            "6\n",
            "5\n",
            "This is an example of python function polymorphism\n"
          ]
        }
      ]
    },
    {
      "cell_type": "code",
      "source": [
        "class India():\n",
        "\n",
        "  def name(self):\n",
        "    print('India : ')\n",
        "  \n",
        "  def capital(self):\n",
        "    print('Delhi')\n",
        "\n",
        "  def language(self):\n",
        "    print('Hindi & English')\n",
        "\n",
        "  def type(self):\n",
        "    print('Developing')\n",
        "\n",
        "\n",
        "class USA():\n",
        "\n",
        "  def name(self):\n",
        "    print('USA : ')\n",
        "\n",
        "  def capital(self):\n",
        "    print('Washington D.C.')\n",
        "\n",
        "  def language(self):\n",
        "    print('English')\n",
        "\n",
        "  def type(self):\n",
        "    print('Developed')  "
      ],
      "metadata": {
        "id": "XAIH3kFbizY0"
      },
      "execution_count": 14,
      "outputs": []
    },
    {
      "cell_type": "code",
      "source": [
        "ind = India()\n",
        "\n",
        "us = USA()\n",
        "print('***This is example of Polymorphism in Classes***')\n",
        "for country in (ind, us):\n",
        "  country.name()\n",
        "  country.capital()\n",
        "  country.type()\n",
        "  country.language()"
      ],
      "metadata": {
        "colab": {
          "base_uri": "https://localhost:8080/"
        },
        "id": "hhoP6zQvj-lA",
        "outputId": "f481dd21-e799-403d-901e-2dab937f2b82"
      },
      "execution_count": 17,
      "outputs": [
        {
          "output_type": "stream",
          "name": "stdout",
          "text": [
            "***This is example of Polymorphism in Classes***\n",
            "India : \n",
            "Delhi\n",
            "Developing\n",
            "Hindi & English\n",
            "USA : \n",
            "Washington D.C.\n",
            "Developed\n",
            "English\n"
          ]
        }
      ]
    },
    {
      "cell_type": "code",
      "source": [
        ""
      ],
      "metadata": {
        "id": "Dqq2juqckZRC"
      },
      "execution_count": null,
      "outputs": []
    }
  ]
}