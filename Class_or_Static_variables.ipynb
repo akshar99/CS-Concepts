{
  "nbformat": 4,
  "nbformat_minor": 0,
  "metadata": {
    "colab": {
      "name": "Class or Static variables ",
      "provenance": [],
      "authorship_tag": "ABX9TyMrWfeFLLi2jbKlNsG7mNO0",
      "include_colab_link": true
    },
    "kernelspec": {
      "name": "python3",
      "display_name": "Python 3"
    },
    "language_info": {
      "name": "python"
    }
  },
  "cells": [
    {
      "cell_type": "markdown",
      "metadata": {
        "id": "view-in-github",
        "colab_type": "text"
      },
      "source": [
        "<a href=\"https://colab.research.google.com/github/akshar99/CS-Concepts/blob/main/Class_or_Static_variables.ipynb\" target=\"_parent\"><img src=\"https://colab.research.google.com/assets/colab-badge.svg\" alt=\"Open In Colab\"/></a>"
      ]
    },
    {
      "cell_type": "markdown",
      "source": [
        "A static variable holds the same value for all instances of a class"
      ],
      "metadata": {
        "id": "MlnoXi0g3qzc"
      }
    },
    {
      "cell_type": "code",
      "execution_count": 1,
      "metadata": {
        "id": "SYdBqaVu3iCS"
      },
      "outputs": [],
      "source": [
        "class RE(object):\n",
        "  manufacturer = 'Royal Enfield'\n",
        "\n",
        "  def __init__(self, model, cc):\n",
        "    self.model = model\n",
        "    self.cc = cc "
      ]
    },
    {
      "cell_type": "code",
      "source": [
        "bike1 = RE('Classic', 350)\n",
        "bike2 = RE('Continental GT', 650)"
      ],
      "metadata": {
        "id": "uAM32nWk4ELU"
      },
      "execution_count": 2,
      "outputs": []
    },
    {
      "cell_type": "code",
      "source": [
        "print(f'The model is {bike1.model} {bike1.cc} CC manufactured by  {bike1.manufacturer}')\n",
        "print(f'The model is {bike2.model} {bike2.cc} CC manufactured by  {bike2.manufacturer}')"
      ],
      "metadata": {
        "colab": {
          "base_uri": "https://localhost:8080/"
        },
        "id": "glB8CTqC4XHR",
        "outputId": "5826f6f2-aed1-45c5-8c49-f40238090e36"
      },
      "execution_count": 7,
      "outputs": [
        {
          "output_type": "stream",
          "name": "stdout",
          "text": [
            "The model is Classic 350 CC manufactured by  Royal Enfield\n",
            "The model is Continental GT 650 CC manufactured by  Royal Enfield\n"
          ]
        }
      ]
    },
    {
      "cell_type": "markdown",
      "source": [
        "Python dosen't specificaly wants to declare static variable like Java and CPP\n",
        "\n",
        "We can change the static variable for a particular instance as well as for the whole class"
      ],
      "metadata": {
        "id": "lmE1Of0O5UJ6"
      }
    },
    {
      "cell_type": "code",
      "source": [
        "bike1.manufacturer = 'Eicher Motors'\n",
        "\n",
        "print(f'The model is {bike1.model} {bike1.cc} CC manufactured by  {bike1.manufacturer}')"
      ],
      "metadata": {
        "colab": {
          "base_uri": "https://localhost:8080/"
        },
        "id": "V7wPsd5b4xNq",
        "outputId": "6c3bbc24-6a89-463e-971e-77c5e6476ee8"
      },
      "execution_count": 8,
      "outputs": [
        {
          "output_type": "stream",
          "name": "stdout",
          "text": [
            "The model is Classic 350 CC manufactured by  Eicher Motors\n"
          ]
        }
      ]
    },
    {
      "cell_type": "code",
      "source": [
        "RE.manufacturer = 'Eicher Motors'\n",
        "\n",
        "print(f'The model is {bike1.model} {bike1.cc} CC manufactured by  {bike1.manufacturer}')\n",
        "print(f'The model is {bike2.model} {bike2.cc} CC manufactured by  {bike2.manufacturer}')"
      ],
      "metadata": {
        "colab": {
          "base_uri": "https://localhost:8080/"
        },
        "id": "wWB-ofCz6CKU",
        "outputId": "d3c947f2-d6ee-49dd-b58d-76abd0051ddb"
      },
      "execution_count": 9,
      "outputs": [
        {
          "output_type": "stream",
          "name": "stdout",
          "text": [
            "The model is Classic 350 CC manufactured by  Eicher Motors\n",
            "The model is Continental GT 650 CC manufactured by  Eicher Motors\n"
          ]
        }
      ]
    },
    {
      "cell_type": "code",
      "source": [
        ""
      ],
      "metadata": {
        "id": "RwvDd9AE6MCU"
      },
      "execution_count": null,
      "outputs": []
    }
  ]
}