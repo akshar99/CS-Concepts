{
  "nbformat": 4,
  "nbformat_minor": 0,
  "metadata": {
    "colab": {
      "name": "Inheritance(Single & Multiple)",
      "provenance": []
    },
    "kernelspec": {
      "name": "python3",
      "display_name": "Python 3"
    },
    "language_info": {
      "name": "python"
    }
  },
  "cells": [
    {
      "cell_type": "code",
      "execution_count": 2,
      "metadata": {
        "id": "Pw4vahdw2aGZ"
      },
      "outputs": [],
      "source": [
        "class Person(object):\n",
        "  \n",
        "  def __init__(self, name, id):\n",
        "    self.name = name\n",
        "    self.id = id\n",
        "\n",
        "  def Display(self):\n",
        "    print(self.name, self.id)"
      ]
    },
    {
      "cell_type": "code",
      "source": [
        "emp = Person('Akshar', '007')\n",
        "\n",
        "emp.Display()"
      ],
      "metadata": {
        "colab": {
          "base_uri": "https://localhost:8080/"
        },
        "id": "BvVHGnIu6CsE",
        "outputId": "9a4f77b8-a10d-4b21-a71c-032dab049a71"
      },
      "execution_count": 3,
      "outputs": [
        {
          "output_type": "stream",
          "name": "stdout",
          "text": [
            "Akshar 007\n"
          ]
        }
      ]
    },
    {
      "cell_type": "code",
      "source": [
        "class Emp(Person):\n",
        "\n",
        "  def Print(self):\n",
        "    print('Child class of Person')\n",
        "\n",
        "Emp_Details = Emp('Akshar', '007')\n",
        "Emp_Details.Display()\n",
        "Emp_Details.Print()    "
      ],
      "metadata": {
        "colab": {
          "base_uri": "https://localhost:8080/"
        },
        "id": "YgiND6Tu6PZi",
        "outputId": "c52ab871-c74c-46ef-9743-edf5db7b750c"
      },
      "execution_count": 6,
      "outputs": [
        {
          "output_type": "stream",
          "name": "stdout",
          "text": [
            "Akshar 007\n",
            "Child class of Person\n"
          ]
        }
      ]
    },
    {
      "cell_type": "code",
      "source": [
        "class Person(object):\n",
        "\n",
        "  def __init__(self, name):\n",
        "    self.name = name\n",
        "\n",
        "  def getName(self):\n",
        "    return self.name\n",
        "\n",
        "  def isEmployee(self):\n",
        "    return False\n",
        "\n",
        "\n",
        "class Employee(Person):\n",
        "\n",
        "  def isEmployee(self):\n",
        "    return True\n",
        "\n",
        "\n",
        "emp = Person('Geek1')\n",
        "print(emp.getName(), emp.isEmployee())\n",
        "\n",
        "emp = Employee('Geek2')\n",
        "print(emp.getName(), emp.isEmployee())"
      ],
      "metadata": {
        "colab": {
          "base_uri": "https://localhost:8080/"
        },
        "id": "pUaKZboC7Cgm",
        "outputId": "9e5d1562-9ab7-4c9d-c9f4-7bd5b78e2e86"
      },
      "execution_count": 8,
      "outputs": [
        {
          "output_type": "stream",
          "name": "stdout",
          "text": [
            "Geek1 False\n",
            "Geek2 True\n"
          ]
        }
      ]
    },
    {
      "cell_type": "code",
      "source": [
        "class Person(object):\n",
        "\n",
        "  def __init__(self, name, idnumber):\n",
        "    self.name = name\n",
        "    self.idnumber = idnumber\n",
        "\n",
        "  def display(self):\n",
        "    print(self.name)\n",
        "    print(self.idnumber)\n",
        "\n",
        "\n",
        "class Employee(Person):\n",
        "\n",
        "  def __init__(self, name, idnumber, salary, post):\n",
        "    self.salary = salary\n",
        "    self.post = post\n",
        "    Person.__init__(self, name, idnumber)\n",
        "\n",
        "\n",
        "a = Employee('Akshar', '007', '20000', 'Intern')\n",
        "a.display()"
      ],
      "metadata": {
        "colab": {
          "base_uri": "https://localhost:8080/"
        },
        "id": "_PoxJyoS93vV",
        "outputId": "42268346-6bcc-41c1-860a-2b50ff4536df"
      },
      "execution_count": 3,
      "outputs": [
        {
          "output_type": "stream",
          "name": "stdout",
          "text": [
            "Akshar\n",
            "007\n"
          ]
        }
      ]
    },
    {
      "cell_type": "code",
      "source": [
        "class Base1(object):\n",
        "  \n",
        "  def __init__(self):\n",
        "    self.str1 = 'Geek1'\n",
        "    print('Base1')\n",
        "\n",
        "class Base2(object):\n",
        "  \n",
        "  def __init__(self):\n",
        "    self.str2 = 'Geek2'\n",
        "    print('Base2')\n",
        "\n",
        "class Derived(Base1, Base2):\n",
        "\n",
        "  def __init__(self):\n",
        "    Base1.__init__(self)\n",
        "    Base2.__init__(self)\n",
        "    print('Derived')\n",
        "\n",
        "  def printStrs(self):\n",
        "    print(self.str1, self.str2,'\\nThis is an example of Multiple Inheritance')"
      ],
      "metadata": {
        "id": "XaysCl2m13DK"
      },
      "execution_count": 11,
      "outputs": []
    },
    {
      "cell_type": "code",
      "source": [
        "ob = Derived()\n",
        "ob.printStrs()"
      ],
      "metadata": {
        "colab": {
          "base_uri": "https://localhost:8080/"
        },
        "id": "Je6Fh36X_y3o",
        "outputId": "1e021db8-8774-48a3-b3cf-3ac5d97ac874"
      },
      "execution_count": 12,
      "outputs": [
        {
          "output_type": "stream",
          "name": "stdout",
          "text": [
            "Base1\n",
            "Base2\n",
            "Derived\n",
            "Geek1 Geek2 \n",
            "This is an example of Multiple Inheritance\n"
          ]
        }
      ]
    },
    {
      "cell_type": "code",
      "source": [
        ""
      ],
      "metadata": {
        "id": "7ZwXzMZT_21g"
      },
      "execution_count": null,
      "outputs": []
    }
  ]
}